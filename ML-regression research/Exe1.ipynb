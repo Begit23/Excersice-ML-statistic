{
 "cells": [
  {
   "cell_type": "markdown",
   "id": "7844bc20",
   "metadata": {},
   "source": [
    "## <center> Exercise number 1  "
   ]
  },
  {
   "cell_type": "markdown",
   "id": "61beda63",
   "metadata": {
    "direction": "rtl"
   },
   "source": [
    "בתאל בן עזרא- 322740408  \n",
    "שירה בן שמחון-  \n",
    "חן בן ממס-"
   ]
  },
  {
   "cell_type": "code",
   "execution_count": 1,
   "id": "398e9e70-ac1e-4e61-9712-243cec8c585b",
   "metadata": {},
   "outputs": [],
   "source": [
    "import pandas as pd\n",
    "import numpy as np\n",
    "import statsmodels as sm\n",
    "import sklearn as skl\n",
    "import seaborn as sns\n",
    "import scipy as sc\n",
    "import matplotlib.pyplot as plt\n",
    "\n",
    "from sklearn.linear_model import LinearRegression \n",
    "from sklearn.metrics import r2_score\n",
    "from statsmodels.formula.api import ols\n",
    "from statsmodels.formula.api import quantreg\n",
    "from statsmodels.stats.diagnostic import het_white\n",
    "from statsmodels.stats.diagnostic import het_breuschpagan\n",
    "from sklearn.linear_model import Ridge\n",
    "from sklearn.model_selection import RepeatedKFold\n",
    "from sklearn.model_selection import GridSearchCV"
   ]
  },
  {
   "cell_type": "markdown",
   "id": "781ef287",
   "metadata": {},
   "source": [
    "## Question 1"
   ]
  },
  {
   "cell_type": "markdown",
   "id": "6bb18789-3fb9-4cec-a740-bcffd1c3d11e",
   "metadata": {},
   "source": [
    "read the data"
   ]
  },
  {
   "cell_type": "code",
   "execution_count": 2,
   "id": "aef8113f-277c-4281-bafa-124941802ca7",
   "metadata": {},
   "outputs": [],
   "source": [
    "data=pd.read_parquet(\"data1.parquet\")"
   ]
  },
  {
   "cell_type": "markdown",
   "id": "89dc56dd-651a-496c-b3e6-206a0d9a322c",
   "metadata": {},
   "source": [
    "clean anomly points"
   ]
  },
  {
   "cell_type": "code",
   "execution_count": 3,
   "id": "11521aef-0bde-4888-a2f5-8e726b5ca25f",
   "metadata": {},
   "outputs": [],
   "source": [
    "filter_data=data[(data['x']<600)]\n",
    "data_x=filter_data[['x']]\n",
    "data_y=filter_data['y']\n"
   ]
  },
  {
   "cell_type": "markdown",
   "id": "3e0d3e9e-a0ba-4712-8f8d-3c934680c283",
   "metadata": {},
   "source": [
    "find y=a*x+b with linear regression"
   ]
  },
  {
   "cell_type": "code",
   "execution_count": 4,
   "id": "b6a3a3ea-d42f-4c5f-a0ba-64d89d61d6ab",
   "metadata": {},
   "outputs": [
    {
     "name": "stdout",
     "output_type": "stream",
     "text": [
      "y = 2.97*x + 70.02\n"
     ]
    }
   ],
   "source": [
    "lr = LinearRegression()\n",
    "lr.fit(data_x, data_y)\n",
    "lr_predicted=lr.predict(data_x)\n",
    "print(f'y = {lr.coef_[0]:.2f}*x + {lr.intercept_:.2f}')\n"
   ]
  },
  {
   "cell_type": "markdown",
   "id": "712d34be-c4a4-40fa-b5b2-c052e072e886",
   "metadata": {},
   "source": [
    "find y=a*x+b with Deming Regression\n",
    "\n",
    "delta is the ratio between the variance of the errors in y divided by the variance of the errors in x.\n",
    "\n",
    "in our question is 1/2."
   ]
  },
  {
   "cell_type": "code",
   "execution_count": 5,
   "id": "30a9f5f6-5e84-48b4-bb77-a8eeb3418908",
   "metadata": {},
   "outputs": [],
   "source": [
    "x_mean = data_x.mean()\n",
    "y_mean = data_y.mean()\n",
    "\n",
    "s_xy = ((data_x - x_mean).x * (data_y - y_mean)).sum() \n",
    "s_xx = ((data_x - x_mean)**2).sum()\n",
    "s_yy = ((data_y - y_mean)**2).sum()\n",
    "\n",
    "delta = 1/2\n",
    "\n",
    "deming_slope = (s_yy - delta*s_xx + np.sqrt((s_yy - delta*s_xx)**2 + 4*delta*s_xy**2)) / (2*s_xy)\n",
    "deming_intercept = y_mean - x_mean*deming_slope\n",
    "dr_pridected = (data_x * deming_slope + deming_intercept).x\n"
   ]
  },
  {
   "cell_type": "markdown",
   "id": "29b3469b-a183-4b6f-bd1c-96e80d1c02ae",
   "metadata": {},
   "source": [
    "the deming regression better then linear regression"
   ]
  },
  {
   "cell_type": "code",
   "execution_count": 6,
   "id": "befb810b-1f85-4deb-bbe5-0d3f3d2541c4",
   "metadata": {},
   "outputs": [
    {
     "data": {
      "text/plain": [
       "[0.8358081335811013, 0.8358081335811013]"
      ]
     },
     "execution_count": 6,
     "metadata": {},
     "output_type": "execute_result"
    }
   ],
   "source": [
    "lr_err=r2_score(data_y, lr_predicted)\n",
    "dr_err=r2_score(data_y, lr_predicted)\n",
    "[lr_err,dr_err]"
   ]
  },
  {
   "cell_type": "markdown",
   "id": "a259efa6-c4ba-466f-8490-0b019683d5c2",
   "metadata": {},
   "source": [
    "plot the Linear Regression and the Deming Regression\n",
    "\n",
    "compared to true point\n"
   ]
  },
  {
   "cell_type": "code",
   "execution_count": 7,
   "id": "510e1c2a-62c7-40e9-b3c6-d3ffcbf6587a",
   "metadata": {},
   "outputs": [
    {
     "data": {
      "image/png": "[encoded data removed]",
      "text/plain": [
       "<Figure size 640x480 with 1 Axes>"
      ]
     },
     "metadata": {},
     "output_type": "display_data"
    }
   ],
   "source": [
    "plt.scatter(data_x,data_y,color=\"black\")\n",
    "plt.plot(data_x.x,dr_pridected,color=\"green\")\n",
    "plt.plot(data_x.x,lr_predicted)\n",
    "plt.xticks(())\n",
    "plt.yticks(())\n",
    "plt.show()"
   ]
  },
  {
   "cell_type": "code",
   "execution_count": null,
   "id": "99a5921e",
   "metadata": {},
   "outputs": [],
   "source": [
    "dr_pridected.r"
   ]
  },
  {
   "cell_type": "markdown",
   "id": "a1fcef95",
   "metadata": {},
   "source": [
    "## Question 2"
   ]
  },
  {
   "cell_type": "code",
   "execution_count": 8,
   "id": "a3454b59",
   "metadata": {},
   "outputs": [
    {
     "data": {
      "text/html": [
       "<div>\n",
       "<style scoped>\n",
       "    .dataframe tbody tr th:only-of-type {\n",
       "        vertical-align: middle;\n",
       "    }\n",
       "\n",
       "    .dataframe tbody tr th {\n",
       "        vertical-align: top;\n",
       "    }\n",
       "\n",
       "    .dataframe thead th {\n",
       "        text-align: right;\n",
       "    }\n",
       "</style>\n",
       "<table border=\"1\" class=\"dataframe\">\n",
       "  <thead>\n",
       "    <tr style=\"text-align: right;\">\n",
       "      <th></th>\n",
       "      <th>x</th>\n",
       "      <th>y</th>\n",
       "    </tr>\n",
       "  </thead>\n",
       "  <tbody>\n",
       "    <tr>\n",
       "      <th>0</th>\n",
       "      <td>0.00000</td>\n",
       "      <td>10.248357</td>\n",
       "    </tr>\n",
       "    <tr>\n",
       "      <th>1</th>\n",
       "      <td>0.10101</td>\n",
       "      <td>9.974390</td>\n",
       "    </tr>\n",
       "    <tr>\n",
       "      <th>2</th>\n",
       "      <td>0.20202</td>\n",
       "      <td>10.490277</td>\n",
       "    </tr>\n",
       "    <tr>\n",
       "      <th>3</th>\n",
       "      <td>0.30303</td>\n",
       "      <td>11.143792</td>\n",
       "    </tr>\n",
       "    <tr>\n",
       "      <th>4</th>\n",
       "      <td>0.40404</td>\n",
       "      <td>10.037640</td>\n",
       "    </tr>\n",
       "  </tbody>\n",
       "</table>\n",
       "</div>"
      ],
      "text/plain": [
       "         x          y\n",
       "0  0.00000  10.248357\n",
       "1  0.10101   9.974390\n",
       "2  0.20202  10.490277\n",
       "3  0.30303  11.143792\n",
       "4  0.40404  10.037640"
      ]
     },
     "execution_count": 8,
     "metadata": {},
     "output_type": "execute_result"
    }
   ],
   "source": [
    "data=pd.read_parquet('data2.parquet',engine='pyarrow')\n",
    "data.head()"
   ]
  },
  {
   "cell_type": "code",
   "execution_count": 9,
   "id": "75c5e38a",
   "metadata": {},
   "outputs": [
    {
     "data": {
      "text/html": [
       "<div>\n",
       "<style scoped>\n",
       "    .dataframe tbody tr th:only-of-type {\n",
       "        vertical-align: middle;\n",
       "    }\n",
       "\n",
       "    .dataframe tbody tr th {\n",
       "        vertical-align: top;\n",
       "    }\n",
       "\n",
       "    .dataframe thead th {\n",
       "        text-align: right;\n",
       "    }\n",
       "</style>\n",
       "<table border=\"1\" class=\"dataframe\">\n",
       "  <thead>\n",
       "    <tr style=\"text-align: right;\">\n",
       "      <th></th>\n",
       "      <th>x</th>\n",
       "      <th>y</th>\n",
       "    </tr>\n",
       "  </thead>\n",
       "  <tbody>\n",
       "    <tr>\n",
       "      <th>count</th>\n",
       "      <td>100.000000</td>\n",
       "      <td>100.000000</td>\n",
       "    </tr>\n",
       "    <tr>\n",
       "      <th>mean</th>\n",
       "      <td>5.000000</td>\n",
       "      <td>12.247093</td>\n",
       "    </tr>\n",
       "    <tr>\n",
       "      <th>std</th>\n",
       "      <td>2.930454</td>\n",
       "      <td>3.277851</td>\n",
       "    </tr>\n",
       "    <tr>\n",
       "      <th>min</th>\n",
       "      <td>0.000000</td>\n",
       "      <td>2.636535</td>\n",
       "    </tr>\n",
       "    <tr>\n",
       "      <th>25%</th>\n",
       "      <td>2.500000</td>\n",
       "      <td>10.073236</td>\n",
       "    </tr>\n",
       "    <tr>\n",
       "      <th>50%</th>\n",
       "      <td>5.000000</td>\n",
       "      <td>11.579393</td>\n",
       "    </tr>\n",
       "    <tr>\n",
       "      <th>75%</th>\n",
       "      <td>7.500000</td>\n",
       "      <td>14.248710</td>\n",
       "    </tr>\n",
       "    <tr>\n",
       "      <th>max</th>\n",
       "      <td>10.000000</td>\n",
       "      <td>21.000932</td>\n",
       "    </tr>\n",
       "  </tbody>\n",
       "</table>\n",
       "</div>"
      ],
      "text/plain": [
       "                x           y\n",
       "count  100.000000  100.000000\n",
       "mean     5.000000   12.247093\n",
       "std      2.930454    3.277851\n",
       "min      0.000000    2.636535\n",
       "25%      2.500000   10.073236\n",
       "50%      5.000000   11.579393\n",
       "75%      7.500000   14.248710\n",
       "max     10.000000   21.000932"
      ]
     },
     "execution_count": 9,
     "metadata": {},
     "output_type": "execute_result"
    }
   ],
   "source": [
    "data.describe()"
   ]
  },
  {
   "cell_type": "markdown",
   "id": "48ee4481",
   "metadata": {},
   "source": [
    "## <center>modeling y as a function of x using linear regression"
   ]
  },
  {
   "cell_type": "code",
   "execution_count": 10,
   "id": "e8f89f02",
   "metadata": {},
   "outputs": [
    {
     "data": {
      "image/png": "[encoded data removed]",
      "text/plain": [
       "<Figure size 500x300 with 1 Axes>"
      ]
     },
     "metadata": {},
     "output_type": "display_data"
    }
   ],
   "source": [
    "plt.figure(figsize=(5,3))\n",
    "sns.regplot(data,x='x',y='y').set(title=\"Linear regression Y by X\")\n",
    "plt.show()"
   ]
  },
  {
   "cell_type": "code",
   "execution_count": 11,
   "id": "f598fce4",
   "metadata": {},
   "outputs": [
    {
     "name": "stdout",
     "output_type": "stream",
     "text": [
      "                            OLS Regression Results                            \n",
      "==============================================================================\n",
      "Dep. Variable:                      y   R-squared:                       0.211\n",
      "Model:                            OLS   Adj. R-squared:                  0.203\n",
      "Method:                 Least Squares   F-statistic:                     26.28\n",
      "Date:                Tue, 20 Dec 2022   Prob (F-statistic):           1.48e-06\n",
      "Time:                        23:43:06   Log-Likelihood:                -248.23\n",
      "No. Observations:                 100   AIC:                             500.5\n",
      "Df Residuals:                      98   BIC:                             505.7\n",
      "Df Model:                           1                                         \n",
      "Covariance Type:            nonrobust                                         \n",
      "==============================================================================\n",
      "                 coef    std err          t      P>|t|      [0.025      0.975]\n",
      "------------------------------------------------------------------------------\n",
      "Intercept      9.6752      0.581     16.660      0.000       8.523      10.828\n",
      "x              0.5144      0.100      5.127      0.000       0.315       0.713\n",
      "==============================================================================\n",
      "Omnibus:                       12.551   Durbin-Watson:                   2.187\n",
      "Prob(Omnibus):                  0.002   Jarque-Bera (JB):               21.650\n",
      "Skew:                          -0.497   Prob(JB):                     1.99e-05\n",
      "Kurtosis:                       5.051   Cond. No.                         11.7\n",
      "==============================================================================\n",
      "\n",
      "Notes:\n",
      "[1] Standard Errors assume that the covariance matrix of the errors is correctly specified.\n"
     ]
    }
   ],
   "source": [
    "# fit simple linear regression model\n",
    "OLS_model = ols('y ~ x',data=data).fit() \n",
    "# display model summary\n",
    "print(OLS_model.summary())"
   ]
  },
  {
   "cell_type": "code",
   "execution_count": 12,
   "id": "ef7ba6a7",
   "metadata": {},
   "outputs": [],
   "source": [
    "predictions=OLS_model.fittedvalues\n",
    "residuals=OLS_model.resid"
   ]
  },
  {
   "cell_type": "markdown",
   "id": "9e0bafd2",
   "metadata": {},
   "source": [
    "## <center> Testing if the residuals meet the linear regression assumptions"
   ]
  },
  {
   "cell_type": "markdown",
   "id": "6bd3be2d",
   "metadata": {},
   "source": [
    "### Normality assumption   \n",
    "It is assumed that theresiduals are normally distributed"
   ]
  },
  {
   "cell_type": "markdown",
   "id": "37a3ba0d",
   "metadata": {},
   "source": [
    "first-looking at the histogram  \n",
    "It seems that the tail is not continuous with the other values"
   ]
  },
  {
   "cell_type": "code",
   "execution_count": 13,
   "id": "e5ef9f02",
   "metadata": {},
   "outputs": [
    {
     "data": {
      "image/png": "[encoded data removed]",
      "text/plain": [
       "<Figure size 500x300 with 1 Axes>"
      ]
     },
     "metadata": {},
     "output_type": "display_data"
    }
   ],
   "source": [
    "plt.figure(figsize=(5,3))\n",
    "sns.histplot(residuals,kde=True,color='red').set(title=\"The distribution of residuals in the OLS model\")\n",
    "plt.show()"
   ]
  },
  {
   "cell_type": "markdown",
   "id": "2bac2036",
   "metadata": {},
   "source": [
    "Here we looked at the outliers which apparently constitute the tail of the distribution"
   ]
  },
  {
   "cell_type": "code",
   "execution_count": 14,
   "id": "af5c5a49",
   "metadata": {},
   "outputs": [
    {
     "data": {
      "image/png": "[encoded data removed]",
      "text/plain": [
       "<Figure size 500x300 with 1 Axes>"
      ]
     },
     "metadata": {},
     "output_type": "display_data"
    }
   ],
   "source": [
    "plt.figure(figsize=(5,3))\n",
    "sns.boxplot(data=residuals,palette='Set1').set(title=\"Residuals outliers\")\n",
    "plt.show()"
   ]
  },
  {
   "cell_type": "markdown",
   "id": "f16bde9e",
   "metadata": {},
   "source": [
    "**The decisive test-“quantile-quantile”**"
   ]
  },
  {
   "cell_type": "code",
   "execution_count": 15,
   "id": "c2819012",
   "metadata": {},
   "outputs": [
    {
     "data": {
      "image/png": "[encoded data removed]",
      "text/plain": [
       "<Figure size 700x400 with 1 Axes>"
      ]
     },
     "metadata": {},
     "output_type": "display_data"
    }
   ],
   "source": [
    "plt.figure(figsize=(7,4))\n",
    "sc.stats.probplot(residuals,dist=\"norm\",plot=plt)\n",
    "plt.title(\"QQ test for normality distribution\")\n",
    "plt.legend(['Actual','Theoretical'])\n",
    "plt.show()"
   ]
  },
  {
   "cell_type": "markdown",
   "id": "a1ae70fd",
   "metadata": {},
   "source": [
    "If the data is normally distributed, the points in a Q-Q plot will lie on a straight diagonal line.  \n",
    "Conversely, the more the points in the plot deviate significantly from a straight diagonal line, the less likely the set of data follows a normal distribution.  \n",
    "We can see that the points lie mostly along the straight diagonal line with some  deviations along each of the tails.\n",
    "Based on this plot, we could  assume that this  data is normally distributed."
   ]
  },
  {
   "cell_type": "markdown",
   "id": "0fb0325f",
   "metadata": {},
   "source": [
    "### Zero mean assumption  \n",
    " It is assumed that the residuals have a mean value of zero, i.e., the error terms are normally distributed around zero.\n",
    " "
   ]
  },
  {
   "cell_type": "code",
   "execution_count": 16,
   "id": "b810c025",
   "metadata": {},
   "outputs": [
    {
     "name": "stdout",
     "output_type": "stream",
     "text": [
      "The residuals mean: 6.217248937900876e-16\n"
     ]
    }
   ],
   "source": [
    "print(\"The residuals mean:\",np.mean(residuals))"
   ]
  },
  {
   "cell_type": "markdown",
   "id": "44ba84fc",
   "metadata": {},
   "source": [
    "The residuals mean is almost equal to zero, this is a sufficient approximation to determine that the assumption has been met"
   ]
  },
  {
   "cell_type": "markdown",
   "id": "bc89f48f",
   "metadata": {},
   "source": [
    "### Homoscedasticity"
   ]
  },
  {
   "cell_type": "markdown",
   "id": "cb69da4c",
   "metadata": {},
   "source": [
    "Homoscedasticity means that the residuals have equal or almost equal variance across the regression line. By plotting the error terms(residuals) with predicted terms ( the labels) we can check that there should not be any pattern in the error terms.  \n",
    "If there is a definite pattern (like quadratic or funnel shaped) obtained from the scatter plot then heteroscedasticity is present."
   ]
  },
  {
   "cell_type": "code",
   "execution_count": 17,
   "id": "b7bdd34e",
   "metadata": {},
   "outputs": [
    {
     "data": {
      "image/png": "[encoded data removed]",
      "text/plain": [
       "<Figure size 500x300 with 1 Axes>"
      ]
     },
     "metadata": {},
     "output_type": "display_data"
    }
   ],
   "source": [
    "plt.figure(figsize=(5,3))\n",
    "plt.xlabel('y_pred/predicted values')\n",
    "plt.ylabel('Residuals')\n",
    "plt.scatter(predictions,residuals)\n",
    "plt.axhline(0)\n",
    "plt\n",
    "plt.show()"
   ]
  },
  {
   "cell_type": "markdown",
   "id": "35188341",
   "metadata": {},
   "source": [
    "We can see that the residual are spread at a high value of x- wich mean heteroscedasticity.  \n",
    "to be sure we used the withe test and Breusch-Pagan test:  \n",
    "Null (H0): Homoscedasticity is present (residuals are equally scattered)  \n",
    "Alternative (HA): Heteroscedasticity is present (residuals are not equally scattered)"
   ]
  },
  {
   "cell_type": "markdown",
   "id": "75231e1b",
   "metadata": {},
   "source": [
    "**White test**"
   ]
  },
  {
   "cell_type": "code",
   "execution_count": 18,
   "id": "133ec96e",
   "metadata": {},
   "outputs": [
    {
     "name": "stdout",
     "output_type": "stream",
     "text": [
      "lm : 11.019456296116982 lm_pvalue: 0.004047207474894136\n"
     ]
    }
   ],
   "source": [
    "white_test = het_white(residuals, OLS_model.model.exog)\n",
    "print(\"lm :\", white_test[0],\"lm_pvalue:\", white_test[1])"
   ]
  },
  {
   "cell_type": "markdown",
   "id": "2d59a6ff",
   "metadata": {},
   "source": [
    "Since the p-value is less then 0.05, we  reject the null hypothesis and conclude that heteroscedasticity is present in the regression model."
   ]
  },
  {
   "cell_type": "markdown",
   "id": "7c7f0f94",
   "metadata": {},
   "source": [
    "**Breusch-Pagan test**"
   ]
  },
  {
   "cell_type": "code",
   "execution_count": 19,
   "id": "6827078d",
   "metadata": {},
   "outputs": [
    {
     "name": "stdout",
     "output_type": "stream",
     "text": [
      "lm : 10.673778282992652 lm_pvalue: 0.0010866493368004257\n"
     ]
    }
   ],
   "source": [
    "bptest_test = het_breuschpagan(residuals, OLS_model.model.exog)\n",
    "print(\"lm :\", bptest_test[0],\"lm_pvalue:\", bptest_test[1])"
   ]
  },
  {
   "cell_type": "markdown",
   "id": "0773cecb",
   "metadata": {},
   "source": [
    "Here we also get a p-value smaller than 0.05,hence we don't reject the null hypothesis"
   ]
  },
  {
   "cell_type": "markdown",
   "id": "5dac37b6",
   "metadata": {},
   "source": [
    "### Quantile regression"
   ]
  },
  {
   "cell_type": "code",
   "execution_count": 20,
   "id": "c05a18a0",
   "metadata": {},
   "outputs": [],
   "source": [
    "quantile_model_1 =quantreg(\"y ~ x\", data).fit(q=0.05)\n",
    "quantile_model_2 =quantreg(\"y ~ x\", data).fit(q=0.5)\n",
    "quantile_model_3 =quantreg(\"y ~ x\", data).fit(q=0.95)"
   ]
  },
  {
   "cell_type": "code",
   "execution_count": 21,
   "id": "4326a017",
   "metadata": {
    "direction": "rtl"
   },
   "outputs": [
    {
     "data": {
      "image/png": "[encoded data removed]",
      "text/plain": [
       "<Figure size 640x480 with 1 Axes>"
      ]
     },
     "metadata": {},
     "output_type": "display_data"
    }
   ],
   "source": [
    "plt.scatter(data.x,data.y,  color='black',label='training data')\n",
    "plt.plot(data.x, predictions, color='blue',\n",
    "         linewidth=3, label='OLS line')\n",
    "plt.plot(data.x,quantile_model_1.fittedvalues,color='red',linewidth=3,label='quantiles=0.05')\n",
    "plt.plot(data.x,quantile_model_2.fittedvalues,'g:',linewidth=3,label='quantiles=0.5')\n",
    "plt.plot(data.x,quantile_model_3.fittedvalues,color='cyan',linewidth=3,label='quantiles=0.95')\n",
    "\n",
    "plt.legend()\n",
    "plt.show()"
   ]
  },
  {
   "cell_type": "markdown",
   "id": "686964e0",
   "metadata": {
    "direction": "rtl"
   },
   "source": [
    "ברגרסיה רגילה (OLS) אנו ממזערים את סכום ריבועי השגיאות (RSS) או את ממוצע ריבועי השגיאות (RMS) ומקבלים את קו הרגרסיה המתאים ביותר ל data שלנו- בהנחה וההנחות הנדרשות בעת שימוש ברגרסיה ליניארית מתקיימות.  \n",
    "בשיטה זו אנו מקבלים את הממוצע המותנה של משתנה המטרה(y)על פני המשתנים המנבאים (X): "
   ]
  },
  {
   "cell_type": "markdown",
   "id": "da2cba34",
   "metadata": {},
   "source": [
    "<center>$Y_{i}=\\hat{Y}_{i}+\\epsilon_{i}$\n",
    "<center>$\\hat{Y}=\\mu_{(Y_|x_{i})}= \\hat{\\theta}_{0} + \\sum \\limits _{i=1} ^{p} X_{i}\\hat{\\theta}_{i}$\n",
    "<center>$Y_{i}=\\mu_{(Y_|x_{i})}+\\epsilon_{i}$"
   ]
  },
  {
   "cell_type": "markdown",
   "id": "eb205b5c",
   "metadata": {
    "direction": "rtl"
   },
   "source": [
    "כך בהינתן x מסוים שעבורו נרצה לחזות את y, קו הרגרסיה נותן לנו את הממוצע של כלל האוכלוסיה בהינתן אותו x.  \n",
    "לשיטה זו יש כמה חסרונות:בראש ובראשונה, לא ניתן להשתמש בה כאשר אחת ההנחות שיש להניח בעת שימוש ברגרסיה ליניארית לא מתממשות.  \n",
    "מעבר לזה בהרבה מקרים בכלל לא נהיה מעוניינים בממוצע(אלא אולי בחציון או באחוזון אחר) הוא חסר משמעות עבורינו ואין לנו אפשרות לקבוע רמת ביטחון עבור הפרדיקציות.   \n",
    "במקרים כאלו נשתמש ב - Quantile regression שהיא הרחבה לרגרסיה ליניארית.   \n",
    "התהליך למציאת קו הרגרסיה המתאים ביותר דומה מאוד לרגרסיה ליניארית רק שבשיטה זו נמזער סכום משוקלל של השגיאה השלילית והחיובית ונקבל את החציון/האחוזון המותנה של משתנה המטרה על פני המשתנים המנבאים. "
   ]
  },
  {
   "cell_type": "markdown",
   "id": "d782ac1d",
   "metadata": {
    "direction": "rtl"
   },
   "source": [
    "קו הרגרסיה המתקבל עבור $\\tau$ מסוים כאשר $0<\\tau<1$: "
   ]
  },
  {
   "cell_type": "markdown",
   "id": "dd3691d4",
   "metadata": {},
   "source": [
    "<center>$Q_{\\tau}(y_{i})=\\theta_{0}(\\tau)+\\theta_{1}(\\tau)x_{i1}+...+\\theta_{p}(\\tau)x_{ip}$"
   ]
  },
  {
   "cell_type": "markdown",
   "id": "4b3fdda8",
   "metadata": {
    "direction": "rtl"
   },
   "source": [
    "ה- Loss function  ב Quantile regression:"
   ]
  },
  {
   "cell_type": "markdown",
   "id": "4cf161f7",
   "metadata": {},
   "source": [
    "<center>$L_{\\tau}(Y_{i},\\hat{Y}_{i}|\\tau)=\\sum \\limits _{i=1} ^{n} p_{\\tau}(Y_{i}-\\hat{Y}_{i}|\\tau),$ \n",
    "\n",
    "<center>$P_{\\tau}(u)=\\tau \\max(u,o)+(1-\\tau)\\max(-u,0)$"
   ]
  },
  {
   "cell_type": "markdown",
   "id": "44213168",
   "metadata": {
    "direction": "rtl"
   },
   "source": [
    "כמו שהוזכר, quantile regression מיושמת כאשר התנאים שיש להניח בעת שימוש ברגרסיה ליניארית לא מתממשים או כאשר מעוניינים לקבל הסתכלות רחבה יותר מעבר לממוצע. כמו כן quantile regression רגישה יותר ל outlaiers  וקו הרגרסיה לא יושפע מהם כמו שהוא מושפע ברגרסיה ליניארית(בגלל שהיא מסתכלת על חציון/ אחוז מסוים ולא ממוצע שכידוע מושפע מערכי קיצון). בנוסף, שימוש ב quantile regression נעשה בתחומים רבים כגון בכלכלה ופיננסים (לחישוב  value at risk),רפואה ואקולוגיה. "
   ]
  },
  {
   "cell_type": "markdown",
   "id": "d55d836e",
   "metadata": {},
   "source": [
    "## Question 3"
   ]
  },
  {
   "cell_type": "code",
   "execution_count": 22,
   "id": "fcb76ce7",
   "metadata": {},
   "outputs": [
    {
     "data": {
      "text/html": [
       "<div>\n",
       "<style scoped>\n",
       "    .dataframe tbody tr th:only-of-type {\n",
       "        vertical-align: middle;\n",
       "    }\n",
       "\n",
       "    .dataframe tbody tr th {\n",
       "        vertical-align: top;\n",
       "    }\n",
       "\n",
       "    .dataframe thead th {\n",
       "        text-align: right;\n",
       "    }\n",
       "</style>\n",
       "<table border=\"1\" class=\"dataframe\">\n",
       "  <thead>\n",
       "    <tr style=\"text-align: right;\">\n",
       "      <th></th>\n",
       "      <th>feat_0</th>\n",
       "      <th>feat_1</th>\n",
       "      <th>feat_2</th>\n",
       "      <th>feat_3</th>\n",
       "      <th>feat_4</th>\n",
       "      <th>feat_5</th>\n",
       "      <th>feat_6</th>\n",
       "      <th>feat_7</th>\n",
       "      <th>feat_8</th>\n",
       "      <th>feat_9</th>\n",
       "      <th>feat_10</th>\n",
       "      <th>feat_11</th>\n",
       "      <th>feat_12</th>\n",
       "      <th>label</th>\n",
       "    </tr>\n",
       "  </thead>\n",
       "  <tbody>\n",
       "    <tr>\n",
       "      <th>0</th>\n",
       "      <td>0.00632</td>\n",
       "      <td>18.0</td>\n",
       "      <td>2.31</td>\n",
       "      <td>0</td>\n",
       "      <td>0.538</td>\n",
       "      <td>6.575</td>\n",
       "      <td>65.2</td>\n",
       "      <td>4.0900</td>\n",
       "      <td>1</td>\n",
       "      <td>296.0</td>\n",
       "      <td>15.3</td>\n",
       "      <td>396.90</td>\n",
       "      <td>4.98</td>\n",
       "      <td>24.0</td>\n",
       "    </tr>\n",
       "    <tr>\n",
       "      <th>1</th>\n",
       "      <td>0.02731</td>\n",
       "      <td>0.0</td>\n",
       "      <td>7.07</td>\n",
       "      <td>0</td>\n",
       "      <td>0.469</td>\n",
       "      <td>6.421</td>\n",
       "      <td>78.9</td>\n",
       "      <td>4.9671</td>\n",
       "      <td>2</td>\n",
       "      <td>242.0</td>\n",
       "      <td>17.8</td>\n",
       "      <td>396.90</td>\n",
       "      <td>9.14</td>\n",
       "      <td>21.6</td>\n",
       "    </tr>\n",
       "    <tr>\n",
       "      <th>2</th>\n",
       "      <td>0.02729</td>\n",
       "      <td>0.0</td>\n",
       "      <td>7.07</td>\n",
       "      <td>0</td>\n",
       "      <td>0.469</td>\n",
       "      <td>7.185</td>\n",
       "      <td>61.1</td>\n",
       "      <td>4.9671</td>\n",
       "      <td>2</td>\n",
       "      <td>242.0</td>\n",
       "      <td>17.8</td>\n",
       "      <td>392.83</td>\n",
       "      <td>4.03</td>\n",
       "      <td>34.7</td>\n",
       "    </tr>\n",
       "    <tr>\n",
       "      <th>3</th>\n",
       "      <td>0.03237</td>\n",
       "      <td>0.0</td>\n",
       "      <td>2.18</td>\n",
       "      <td>0</td>\n",
       "      <td>0.458</td>\n",
       "      <td>6.998</td>\n",
       "      <td>45.8</td>\n",
       "      <td>6.0622</td>\n",
       "      <td>3</td>\n",
       "      <td>222.0</td>\n",
       "      <td>18.7</td>\n",
       "      <td>394.63</td>\n",
       "      <td>2.94</td>\n",
       "      <td>33.4</td>\n",
       "    </tr>\n",
       "    <tr>\n",
       "      <th>4</th>\n",
       "      <td>0.06905</td>\n",
       "      <td>0.0</td>\n",
       "      <td>2.18</td>\n",
       "      <td>0</td>\n",
       "      <td>0.458</td>\n",
       "      <td>7.147</td>\n",
       "      <td>54.2</td>\n",
       "      <td>6.0622</td>\n",
       "      <td>3</td>\n",
       "      <td>222.0</td>\n",
       "      <td>18.7</td>\n",
       "      <td>396.90</td>\n",
       "      <td>5.33</td>\n",
       "      <td>36.2</td>\n",
       "    </tr>\n",
       "  </tbody>\n",
       "</table>\n",
       "</div>"
      ],
      "text/plain": [
       "    feat_0  feat_1  feat_2  feat_3  feat_4  feat_5  feat_6  feat_7  feat_8  \\\n",
       "0  0.00632    18.0    2.31       0   0.538   6.575    65.2  4.0900       1   \n",
       "1  0.02731     0.0    7.07       0   0.469   6.421    78.9  4.9671       2   \n",
       "2  0.02729     0.0    7.07       0   0.469   7.185    61.1  4.9671       2   \n",
       "3  0.03237     0.0    2.18       0   0.458   6.998    45.8  6.0622       3   \n",
       "4  0.06905     0.0    2.18       0   0.458   7.147    54.2  6.0622       3   \n",
       "\n",
       "   feat_9  feat_10  feat_11  feat_12  label  \n",
       "0   296.0     15.3   396.90     4.98   24.0  \n",
       "1   242.0     17.8   396.90     9.14   21.6  \n",
       "2   242.0     17.8   392.83     4.03   34.7  \n",
       "3   222.0     18.7   394.63     2.94   33.4  \n",
       "4   222.0     18.7   396.90     5.33   36.2  "
      ]
     },
     "execution_count": 22,
     "metadata": {},
     "output_type": "execute_result"
    }
   ],
   "source": [
    "data=pd.read_parquet('data3.parquet',engine='pyarrow')\n",
    "data.head()"
   ]
  },
  {
   "cell_type": "code",
   "execution_count": 23,
   "id": "7a3a209c",
   "metadata": {},
   "outputs": [
    {
     "data": {
      "text/html": [
       "<div>\n",
       "<style scoped>\n",
       "    .dataframe tbody tr th:only-of-type {\n",
       "        vertical-align: middle;\n",
       "    }\n",
       "\n",
       "    .dataframe tbody tr th {\n",
       "        vertical-align: top;\n",
       "    }\n",
       "\n",
       "    .dataframe thead th {\n",
       "        text-align: right;\n",
       "    }\n",
       "</style>\n",
       "<table border=\"1\" class=\"dataframe\">\n",
       "  <thead>\n",
       "    <tr style=\"text-align: right;\">\n",
       "      <th></th>\n",
       "      <th>feat_0</th>\n",
       "      <th>feat_1</th>\n",
       "      <th>feat_2</th>\n",
       "      <th>feat_3</th>\n",
       "      <th>feat_4</th>\n",
       "      <th>feat_5</th>\n",
       "      <th>feat_6</th>\n",
       "      <th>feat_7</th>\n",
       "      <th>feat_8</th>\n",
       "      <th>feat_9</th>\n",
       "      <th>feat_10</th>\n",
       "      <th>feat_11</th>\n",
       "      <th>feat_12</th>\n",
       "      <th>label</th>\n",
       "    </tr>\n",
       "  </thead>\n",
       "  <tbody>\n",
       "    <tr>\n",
       "      <th>count</th>\n",
       "      <td>506.000000</td>\n",
       "      <td>506.000000</td>\n",
       "      <td>506.000000</td>\n",
       "      <td>506.000000</td>\n",
       "      <td>506.000000</td>\n",
       "      <td>506.000000</td>\n",
       "      <td>506.000000</td>\n",
       "      <td>506.000000</td>\n",
       "      <td>506.000000</td>\n",
       "      <td>506.000000</td>\n",
       "      <td>506.000000</td>\n",
       "      <td>506.000000</td>\n",
       "      <td>506.000000</td>\n",
       "      <td>506.000000</td>\n",
       "    </tr>\n",
       "    <tr>\n",
       "      <th>mean</th>\n",
       "      <td>3.613524</td>\n",
       "      <td>11.363636</td>\n",
       "      <td>11.136779</td>\n",
       "      <td>0.069170</td>\n",
       "      <td>0.554695</td>\n",
       "      <td>6.284634</td>\n",
       "      <td>68.574901</td>\n",
       "      <td>3.795043</td>\n",
       "      <td>9.549407</td>\n",
       "      <td>408.237154</td>\n",
       "      <td>18.455534</td>\n",
       "      <td>356.674032</td>\n",
       "      <td>12.653063</td>\n",
       "      <td>22.532806</td>\n",
       "    </tr>\n",
       "    <tr>\n",
       "      <th>std</th>\n",
       "      <td>8.601545</td>\n",
       "      <td>23.322453</td>\n",
       "      <td>6.860353</td>\n",
       "      <td>0.253994</td>\n",
       "      <td>0.115878</td>\n",
       "      <td>0.702617</td>\n",
       "      <td>28.148861</td>\n",
       "      <td>2.105710</td>\n",
       "      <td>8.707259</td>\n",
       "      <td>168.537116</td>\n",
       "      <td>2.164946</td>\n",
       "      <td>91.294864</td>\n",
       "      <td>7.141062</td>\n",
       "      <td>9.197104</td>\n",
       "    </tr>\n",
       "    <tr>\n",
       "      <th>min</th>\n",
       "      <td>0.006320</td>\n",
       "      <td>0.000000</td>\n",
       "      <td>0.460000</td>\n",
       "      <td>0.000000</td>\n",
       "      <td>0.385000</td>\n",
       "      <td>3.561000</td>\n",
       "      <td>2.900000</td>\n",
       "      <td>1.129600</td>\n",
       "      <td>1.000000</td>\n",
       "      <td>187.000000</td>\n",
       "      <td>12.600000</td>\n",
       "      <td>0.320000</td>\n",
       "      <td>1.730000</td>\n",
       "      <td>5.000000</td>\n",
       "    </tr>\n",
       "    <tr>\n",
       "      <th>25%</th>\n",
       "      <td>0.082045</td>\n",
       "      <td>0.000000</td>\n",
       "      <td>5.190000</td>\n",
       "      <td>0.000000</td>\n",
       "      <td>0.449000</td>\n",
       "      <td>5.885500</td>\n",
       "      <td>45.025000</td>\n",
       "      <td>2.100175</td>\n",
       "      <td>4.000000</td>\n",
       "      <td>279.000000</td>\n",
       "      <td>17.400000</td>\n",
       "      <td>375.377500</td>\n",
       "      <td>6.950000</td>\n",
       "      <td>17.025000</td>\n",
       "    </tr>\n",
       "    <tr>\n",
       "      <th>50%</th>\n",
       "      <td>0.256510</td>\n",
       "      <td>0.000000</td>\n",
       "      <td>9.690000</td>\n",
       "      <td>0.000000</td>\n",
       "      <td>0.538000</td>\n",
       "      <td>6.208500</td>\n",
       "      <td>77.500000</td>\n",
       "      <td>3.207450</td>\n",
       "      <td>5.000000</td>\n",
       "      <td>330.000000</td>\n",
       "      <td>19.050000</td>\n",
       "      <td>391.440000</td>\n",
       "      <td>11.360000</td>\n",
       "      <td>21.200000</td>\n",
       "    </tr>\n",
       "    <tr>\n",
       "      <th>75%</th>\n",
       "      <td>3.677083</td>\n",
       "      <td>12.500000</td>\n",
       "      <td>18.100000</td>\n",
       "      <td>0.000000</td>\n",
       "      <td>0.624000</td>\n",
       "      <td>6.623500</td>\n",
       "      <td>94.075000</td>\n",
       "      <td>5.188425</td>\n",
       "      <td>24.000000</td>\n",
       "      <td>666.000000</td>\n",
       "      <td>20.200000</td>\n",
       "      <td>396.225000</td>\n",
       "      <td>16.955000</td>\n",
       "      <td>25.000000</td>\n",
       "    </tr>\n",
       "    <tr>\n",
       "      <th>max</th>\n",
       "      <td>88.976200</td>\n",
       "      <td>100.000000</td>\n",
       "      <td>27.740000</td>\n",
       "      <td>1.000000</td>\n",
       "      <td>0.871000</td>\n",
       "      <td>8.780000</td>\n",
       "      <td>100.000000</td>\n",
       "      <td>12.126500</td>\n",
       "      <td>24.000000</td>\n",
       "      <td>711.000000</td>\n",
       "      <td>22.000000</td>\n",
       "      <td>396.900000</td>\n",
       "      <td>37.970000</td>\n",
       "      <td>50.000000</td>\n",
       "    </tr>\n",
       "  </tbody>\n",
       "</table>\n",
       "</div>"
      ],
      "text/plain": [
       "           feat_0      feat_1      feat_2      feat_3      feat_4      feat_5  \\\n",
       "count  506.000000  506.000000  506.000000  506.000000  506.000000  506.000000   \n",
       "mean     3.613524   11.363636   11.136779    0.069170    0.554695    6.284634   \n",
       "std      8.601545   23.322453    6.860353    0.253994    0.115878    0.702617   \n",
       "min      0.006320    0.000000    0.460000    0.000000    0.385000    3.561000   \n",
       "25%      0.082045    0.000000    5.190000    0.000000    0.449000    5.885500   \n",
       "50%      0.256510    0.000000    9.690000    0.000000    0.538000    6.208500   \n",
       "75%      3.677083   12.500000   18.100000    0.000000    0.624000    6.623500   \n",
       "max     88.976200  100.000000   27.740000    1.000000    0.871000    8.780000   \n",
       "\n",
       "           feat_6      feat_7      feat_8      feat_9     feat_10     feat_11  \\\n",
       "count  506.000000  506.000000  506.000000  506.000000  506.000000  506.000000   \n",
       "mean    68.574901    3.795043    9.549407  408.237154   18.455534  356.674032   \n",
       "std     28.148861    2.105710    8.707259  168.537116    2.164946   91.294864   \n",
       "min      2.900000    1.129600    1.000000  187.000000   12.600000    0.320000   \n",
       "25%     45.025000    2.100175    4.000000  279.000000   17.400000  375.377500   \n",
       "50%     77.500000    3.207450    5.000000  330.000000   19.050000  391.440000   \n",
       "75%     94.075000    5.188425   24.000000  666.000000   20.200000  396.225000   \n",
       "max    100.000000   12.126500   24.000000  711.000000   22.000000  396.900000   \n",
       "\n",
       "          feat_12       label  \n",
       "count  506.000000  506.000000  \n",
       "mean    12.653063   22.532806  \n",
       "std      7.141062    9.197104  \n",
       "min      1.730000    5.000000  \n",
       "25%      6.950000   17.025000  \n",
       "50%     11.360000   21.200000  \n",
       "75%     16.955000   25.000000  \n",
       "max     37.970000   50.000000  "
      ]
     },
     "execution_count": 23,
     "metadata": {},
     "output_type": "execute_result"
    }
   ],
   "source": [
    "data.describe()"
   ]
  },
  {
   "cell_type": "code",
   "execution_count": 24,
   "id": "d174dd05",
   "metadata": {},
   "outputs": [],
   "source": [
    "x=data.drop(['label'],axis=1)\n",
    "y=data['label']"
   ]
  },
  {
   "cell_type": "code",
   "execution_count": 25,
   "id": "510b7aa3",
   "metadata": {},
   "outputs": [],
   "source": [
    "alphas=np.arange(0,1.01,0.01)"
   ]
  },
  {
   "cell_type": "code",
   "execution_count": 26,
   "id": "758bba88",
   "metadata": {},
   "outputs": [],
   "source": [
    "parameters = {'alpha':alphas}"
   ]
  },
  {
   "cell_type": "code",
   "execution_count": 27,
   "id": "9597980c",
   "metadata": {},
   "outputs": [],
   "source": [
    "cv=RepeatedKFold(n_splits=10, n_repeats=3,random_state=1)"
   ]
  },
  {
   "cell_type": "code",
   "execution_count": 28,
   "id": "1c8f2c38",
   "metadata": {},
   "outputs": [],
   "source": [
    "result=GridSearchCV(Ridge(),parameters, scoring='neg_mean_absolute_error',cv=cv).fit(x,y)"
   ]
  },
  {
   "cell_type": "code",
   "execution_count": 29,
   "id": "a5013657",
   "metadata": {},
   "outputs": [
    {
     "name": "stdout",
     "output_type": "stream",
     "text": [
      "Best Score: -3.3788297594275507\n"
     ]
    }
   ],
   "source": [
    "print('Best Score: %s' % result.best_score_)"
   ]
  },
  {
   "cell_type": "code",
   "execution_count": 30,
   "id": "7ebcc58d",
   "metadata": {
    "scrolled": true
   },
   "outputs": [
    {
     "name": "stdout",
     "output_type": "stream",
     "text": [
      "Best Hyperparameters: {'alpha': 0.51}\n"
     ]
    }
   ],
   "source": [
    "print('Best Hyperparameters: %s' % result.best_params_)"
   ]
  },
  {
   "cell_type": "code",
   "execution_count": null,
   "id": "4c03b395",
   "metadata": {},
   "outputs": [],
   "source": []
  }
 ],
 "metadata": {
  "kernelspec": {
   "display_name": "Python 3 (ipykernel)",
   "language": "python",
   "name": "python3"
  },
  "language_info": {
   "codemirror_mode": {
    "name": "ipython",
    "version": 3
   },
   "file_extension": ".py",
   "mimetype": "text/x-python",
   "name": "python",
   "nbconvert_exporter": "python",
   "pygments_lexer": "ipython3",
   "version": "3.8.15"
  }
 },
 "nbformat": 4,
 "nbformat_minor": 5
}
